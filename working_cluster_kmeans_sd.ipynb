{
 "cells":[
  {
   "cell_type":"code",
   "source":[
    "from sklearn.cluster import KMeans\n",
    "import pandas as pd\n",
    "from sklearn.preprocessing import MinMaxScaler\n",
    "from matplotlib import pyplot as plt\n",
    "%matplotlib inline"
   ],
   "execution_count":1,
   "outputs":[
    
   ],
   "metadata":{
    "datalore":{
     "node_id":"gZjwgvJxEXSKHNHHxQ3wqH",
     "type":"CODE",
     "hide_input_from_viewers":false,
     "hide_output_from_viewers":false
    }
   }
  },
  {
   "cell_type":"code",
   "source":[
    "import scikitplot as skplt\n",
    "\n",
    "import sklearn\n",
    "from sklearn.datasets import load_digits, load_boston, load_breast_cancer\n",
    "from sklearn.model_selection import train_test_split\n",
    "\n",
    "from sklearn.ensemble import RandomForestClassifier, RandomForestRegressor, GradientBoostingClassifier, ExtraTreesClassifier\n",
    "from sklearn.linear_model import LinearRegression, LogisticRegression\n",
    "from sklearn.cluster import KMeans\n",
    "from sklearn.decomposition import PCA"
   ],
   "execution_count":2,
   "outputs":[
    
   ],
   "metadata":{
    "datalore":{
     "node_id":"ebrb58NkoBi99V87ehdKbU",
     "type":"CODE",
     "hide_input_from_viewers":false,
     "hide_output_from_viewers":false
    }
   }
  },
  {
   "cell_type":"code",
   "source":[
    "df = pd.read_csv('\/data\/notebook_files\/ro_freq_sd_mean.csv')\n",
    "df.head()"
   ],
   "execution_count":3,
   "outputs":[
    {
     "data":{
      "text\/html":[
       "<div>\n",
       "<style scoped>\n",
       "    .dataframe tbody tr th:only-of-type {\n",
       "        vertical-align: middle;\n",
       "    }\n",
       "\n",
       "    .dataframe tbody tr th {\n",
       "        vertical-align: top;\n",
       "    }\n",
       "\n",
       "    .dataframe thead th {\n",
       "        text-align: right;\n",
       "    }\n",
       "<\/style>\n",
       "<table border=\"1\" class=\"dataframe\">\n",
       "  <thead>\n",
       "    <tr style=\"text-align: right;\">\n",
       "      <th><\/th>\n",
       "      <th>chip<\/th>\n",
       "      <th>chipinstance<\/th>\n",
       "      <th>sd_freq<\/th>\n",
       "      <th>mean<\/th>\n",
       "      <th>label<\/th>\n",
       "    <\/tr>\n",
       "  <\/thead>\n",
       "  <tbody>\n",
       "    <tr>\n",
       "      <th>0<\/th>\n",
       "      <td>Chip1<\/td>\n",
       "      <td>C1I1<\/td>\n",
       "      <td>17.361956<\/td>\n",
       "      <td>220.55<\/td>\n",
       "      <td>0<\/td>\n",
       "    <\/tr>\n",
       "    <tr>\n",
       "      <th>1<\/th>\n",
       "      <td>Chip1<\/td>\n",
       "      <td>C1I2<\/td>\n",
       "      <td>16.164158<\/td>\n",
       "      <td>206.20<\/td>\n",
       "      <td>1<\/td>\n",
       "    <\/tr>\n",
       "    <tr>\n",
       "      <th>2<\/th>\n",
       "      <td>Chip1<\/td>\n",
       "      <td>C1I3<\/td>\n",
       "      <td>15.573616<\/td>\n",
       "      <td>199.25<\/td>\n",
       "      <td>1<\/td>\n",
       "    <\/tr>\n",
       "    <tr>\n",
       "      <th>3<\/th>\n",
       "      <td>Chip1<\/td>\n",
       "      <td>C1I4<\/td>\n",
       "      <td>15.307514<\/td>\n",
       "      <td>194.80<\/td>\n",
       "      <td>1<\/td>\n",
       "    <\/tr>\n",
       "    <tr>\n",
       "      <th>4<\/th>\n",
       "      <td>Chip1<\/td>\n",
       "      <td>C1I5<\/td>\n",
       "      <td>15.079042<\/td>\n",
       "      <td>190.85<\/td>\n",
       "      <td>1<\/td>\n",
       "    <\/tr>\n",
       "  <\/tbody>\n",
       "<\/table>\n",
       "<\/div>"
      ]
     },
     "metadata":{
      
     },
     "output_type":"display_data"
    }
   ],
   "metadata":{
    "datalore":{
     "node_id":"7Ni0bdRZ7itB4sdyhhAN2B",
     "type":"CODE",
     "hide_input_from_viewers":false,
     "hide_output_from_viewers":false
    }
   }
  },
  {
   "cell_type":"code",
   "source":[
    "df['sd_freq'] = df['sd_freq']\n",
    "df['m_freq'] = df['mean']\n",
    "# del df['sd_freq']\n",
    "del df['mean']\n",
    "print(df)"
   ],
   "execution_count":4,
   "outputs":[
    {
     "name":"stdout",
     "text":[
      "       chip chipinstance    sd_freq  label  m_freq\n",
      "0     Chip1         C1I1  17.361956      0  220.55\n",
      "1     Chip1         C1I2  16.164158      1  206.20\n",
      "2     Chip1         C1I3  15.573616      1  199.25\n",
      "3     Chip1         C1I4  15.307514      1  194.80\n",
      "4     Chip1         C1I5  15.079042      1  190.85\n",
      "..      ...          ...        ...    ...     ...\n",
      "795  Chip32       C32I21  13.473585      1  176.75\n",
      "796  Chip32       C32I22  13.118594      1  170.35\n",
      "797  Chip32       C32I23  12.648715      1  163.90\n",
      "798  Chip32       C32I24  12.617349      1  163.35\n",
      "799  Chip32       C32I25  16.564722      0  215.10\n",
      "\n",
      "[800 rows x 5 columns]\n"
     ],
     "output_type":"stream"
    }
   ],
   "metadata":{
    "datalore":{
     "node_id":"Vm7vl2b2HpqTbVuUXltLxe",
     "type":"CODE",
     "hide_input_from_viewers":false,
     "hide_output_from_viewers":false
    }
   }
  },
  {
   "cell_type":"code",
   "source":[
    "plt.scatter(df['sd_freq'],df['m_freq'])\n",
    "plt.xlabel('sd_freq')\n",
    "plt.ylabel('m_freq')"
   ],
   "execution_count":5,
   "outputs":[
    {
     "data":{
      "text\/plain":[
       "Text(0, 0.5, 'm_freq')"
      ]
     },
     "metadata":{
      
     },
     "output_type":"display_data"
    },
    {
     "data":{
      "image\/png":"[encoded data removed]"
     },
     "metadata":{
      "image\/png":{
       
      }
     },
     "output_type":"display_data"
    }
   ],
   "metadata":{
    "datalore":{
     "node_id":"qiedacnlT1t3ofB5fVy6yi",
     "type":"CODE",
     "hide_input_from_viewers":false,
     "hide_output_from_viewers":false
    }
   }
  },
  {
   "cell_type":"code",
   "source":[
    "df0 = pd.DataFrame(df.loc[df['label'] == 0])\n",
    "df1 = pd.DataFrame(df.loc[df['label'] == 1])"
   ],
   "execution_count":6,
   "outputs":[
    
   ],
   "metadata":{
    "datalore":{
     "node_id":"APYXPaWLY4Lhxj08h80wjL",
     "type":"CODE",
     "hide_input_from_viewers":false,
     "hide_output_from_viewers":false
    }
   }
  },
  {
   "cell_type":"code",
   "source":[
    "plt.xlabel('sd_freq')\n",
    "plt.ylabel('m_freq')\n",
    "plt.scatter(df0['sd_freq'], df0['m_freq'],color=\"green\",marker='+')"
   ],
   "execution_count":7,
   "outputs":[
    {
     "data":{
      "text\/plain":[
       "<matplotlib.collections.PathCollection at 0x7f825291a670>"
      ]
     },
     "metadata":{
      
     },
     "output_type":"display_data"
    },
    {
     "data":{
      "image\/png":"[encoded data removed]"
     },
     "metadata":{
      "image\/png":{
       
      }
     },
     "output_type":"display_data"
    }
   ],
   "metadata":{
    "datalore":{
     "node_id":"ESHdGQPKccAyK79x9fmg1W",
     "type":"CODE",
     "hide_input_from_viewers":false,
     "hide_output_from_viewers":false
    }
   }
  },
  {
   "cell_type":"code",
   "source":[
    "plt.xlabel('sd_freq')\n",
    "plt.ylabel('m_freq')\n",
    "# plt.scatter(df0['freq'], df0['values'],color=\"green\",marker='+')\n",
    "plt.scatter(df1['sd_freq'], df1['m_freq'],color=\"blue\",marker='.')"
   ],
   "execution_count":8,
   "outputs":[
    {
     "data":{
      "text\/plain":[
       "<matplotlib.collections.PathCollection at 0x7f825288e430>"
      ]
     },
     "metadata":{
      
     },
     "output_type":"display_data"
    },
    {
     "data":{
      "image\/png":"[encoded data removed]"
     },
     "metadata":{
      "image\/png":{
       
      }
     },
     "output_type":"display_data"
    }
   ],
   "metadata":{
    "datalore":{
     "node_id":"a85R6mJ2i63KwB2hLWCIXK",
     "type":"CODE",
     "hide_input_from_viewers":false,
     "hide_output_from_viewers":false
    }
   }
  },
  {
   "cell_type":"code",
   "source":[
    "sse = []\n",
    "k_rng = range(1,9)\n",
    "for k in k_rng:\n",
    "    km = KMeans(n_clusters=k)\n",
    "    km.fit(df[['sd_freq','m_freq']])\n",
    "    sse.append(km.inertia_)"
   ],
   "execution_count":9,
   "outputs":[
    
   ],
   "metadata":{
    "datalore":{
     "node_id":"Q36qzstZk4y8vSoLUbeJ1D",
     "type":"CODE",
     "hide_input_from_viewers":false,
     "hide_output_from_viewers":false
    }
   }
  },
  {
   "cell_type":"code",
   "source":[
    "plt.xlabel('K')\n",
    "plt.ylabel('Sum of squared error')\n",
    "plt.plot(k_rng,sse)"
   ],
   "execution_count":10,
   "outputs":[
    {
     "data":{
      "text\/plain":[
       "[<matplotlib.lines.Line2D at 0x7f82525f06a0>]"
      ]
     },
     "metadata":{
      
     },
     "output_type":"display_data"
    },
    {
     "data":{
      "image\/png":"[encoded data removed]"
     },
     "metadata":{
      "image\/png":{
       
      }
     },
     "output_type":"display_data"
    }
   ],
   "metadata":{
    "datalore":{
     "node_id":"MQgwJJHxPlrcK1RMTHAoCa",
     "type":"CODE",
     "hide_input_from_viewers":false,
     "hide_output_from_viewers":false
    }
   }
  },
  {
   "cell_type":"code",
   "source":[
    "km = KMeans(n_clusters=4)\n",
    "y_predicted = km.fit_predict(df[['sd_freq','m_freq']])\n",
    "y_predicted"
   ],
   "execution_count":11,
   "outputs":[
    {
     "data":{
      "text\/html":[
       
      ]
     },
     "metadata":{
      
     },
     "output_type":"display_data"
    }
   ],
   "metadata":{
    "datalore":{
     "node_id":"Flb2ykB8rwY5CFvOYgZFdc",
     "type":"CODE",
     "hide_input_from_viewers":false,
     "hide_output_from_viewers":false
    }
   }
  },
  {
   "cell_type":"code",
   "source":[
    "df['cluster']=y_predicted\n",
    "df.head()"
   ],
   "execution_count":12,
   "outputs":[
    {
     "data":{
      "text\/html":[
       "<div>\n",
       "<style scoped>\n",
       "    .dataframe tbody tr th:only-of-type {\n",
       "        vertical-align: middle;\n",
       "    }\n",
       "\n",
       "    .dataframe tbody tr th {\n",
       "        vertical-align: top;\n",
       "    }\n",
       "\n",
       "    .dataframe thead th {\n",
       "        text-align: right;\n",
       "    }\n",
       "<\/style>\n",
       "<table border=\"1\" class=\"dataframe\">\n",
       "  <thead>\n",
       "    <tr style=\"text-align: right;\">\n",
       "      <th><\/th>\n",
       "      <th>chip<\/th>\n",
       "      <th>chipinstance<\/th>\n",
       "      <th>sd_freq<\/th>\n",
       "      <th>label<\/th>\n",
       "      <th>m_freq<\/th>\n",
       "      <th>cluster<\/th>\n",
       "    <\/tr>\n",
       "  <\/thead>\n",
       "  <tbody>\n",
       "    <tr>\n",
       "      <th>0<\/th>\n",
       "      <td>Chip1<\/td>\n",
       "      <td>C1I1<\/td>\n",
       "      <td>17.361956<\/td>\n",
       "      <td>0<\/td>\n",
       "      <td>220.55<\/td>\n",
       "      <td>3<\/td>\n",
       "    <\/tr>\n",
       "    <tr>\n",
       "      <th>1<\/th>\n",
       "      <td>Chip1<\/td>\n",
       "      <td>C1I2<\/td>\n",
       "      <td>16.164158<\/td>\n",
       "      <td>1<\/td>\n",
       "      <td>206.20<\/td>\n",
       "      <td>0<\/td>\n",
       "    <\/tr>\n",
       "    <tr>\n",
       "      <th>2<\/th>\n",
       "      <td>Chip1<\/td>\n",
       "      <td>C1I3<\/td>\n",
       "      <td>15.573616<\/td>\n",
       "      <td>1<\/td>\n",
       "      <td>199.25<\/td>\n",
       "      <td>0<\/td>\n",
       "    <\/tr>\n",
       "    <tr>\n",
       "      <th>3<\/th>\n",
       "      <td>Chip1<\/td>\n",
       "      <td>C1I4<\/td>\n",
       "      <td>15.307514<\/td>\n",
       "      <td>1<\/td>\n",
       "      <td>194.80<\/td>\n",
       "      <td>2<\/td>\n",
       "    <\/tr>\n",
       "    <tr>\n",
       "      <th>4<\/th>\n",
       "      <td>Chip1<\/td>\n",
       "      <td>C1I5<\/td>\n",
       "      <td>15.079042<\/td>\n",
       "      <td>1<\/td>\n",
       "      <td>190.85<\/td>\n",
       "      <td>2<\/td>\n",
       "    <\/tr>\n",
       "  <\/tbody>\n",
       "<\/table>\n",
       "<\/div>"
      ]
     },
     "metadata":{
      
     },
     "output_type":"display_data"
    }
   ],
   "metadata":{
    "datalore":{
     "node_id":"3GzHUeqyrf8jojiDMARaEC",
     "type":"CODE",
     "hide_input_from_viewers":false,
     "hide_output_from_viewers":false
    }
   }
  },
  {
   "cell_type":"code",
   "source":[
    "km.cluster_centers_"
   ],
   "execution_count":13,
   "outputs":[
    {
     "data":{
      "text\/html":[
       
      ]
     },
     "metadata":{
      
     },
     "output_type":"display_data"
    }
   ],
   "metadata":{
    "datalore":{
     "node_id":"6580Xv0jn5qcJPXVvI8UxQ",
     "type":"CODE",
     "hide_input_from_viewers":false,
     "hide_output_from_viewers":false
    }
   }
  },
  {
   "cell_type":"code",
   "source":[
    "df10 = df[df.cluster==0]\n",
    "df20 = df[df.cluster==1]\n",
    "df30 = df[df.cluster==2]\n",
    "df40 = df[df.cluster==3]\n",
    "# df50 = df[df.cluster==4]\n",
    "# df60 = df[df.cluster==5]\n",
    "plt.scatter(df10['sd_freq'],df10['m_freq'],color='green')\n",
    "plt.scatter(df20['sd_freq'],df20['m_freq'],color='red')\n",
    "plt.scatter(df30['sd_freq'],df30['m_freq'],color='black')\n",
    "plt.scatter(df40['sd_freq'],df40['m_freq'],color='pink')\n",
    "# plt.scatter(df50['sd_freq'],df50['m_freq'],color='cyan')\n",
    "# plt.scatter(df60['sd_freq'],df60['m_freq'],color='gray')\n",
    "plt.scatter(km.cluster_centers_[:,0],km.cluster_centers_[:,1],color='purple',marker='*',label='centroid')\n",
    "plt.legend()"
   ],
   "execution_count":14,
   "outputs":[
    {
     "data":{
      "text\/plain":[
       "<matplotlib.legend.Legend at 0x7f8252578fa0>"
      ]
     },
     "metadata":{
      
     },
     "output_type":"display_data"
    },
    {
     "data":{
      "image\/png":"[encoded data removed]"
     },
     "metadata":{
      "image\/png":{
       
      }
     },
     "output_type":"display_data"
    }
   ],
   "metadata":{
    "datalore":{
     "node_id":"aiIDWrMwY92nwDjAi9xbB0",
     "type":"CODE",
     "hide_input_from_viewers":false,
     "hide_output_from_viewers":false
    }
   }
  },
  {
   "cell_type":"code",
   "source":[
    "df"
   ],
   "execution_count":15,
   "outputs":[
    {
     "data":{
      "text\/html":[
       "<div>\n",
       "<style scoped>\n",
       "    .dataframe tbody tr th:only-of-type {\n",
       "        vertical-align: middle;\n",
       "    }\n",
       "\n",
       "    .dataframe tbody tr th {\n",
       "        vertical-align: top;\n",
       "    }\n",
       "\n",
       "    .dataframe thead th {\n",
       "        text-align: right;\n",
       "    }\n",
       "<\/style>\n",
       "<table border=\"1\" class=\"dataframe\">\n",
       "  <thead>\n",
       "    <tr style=\"text-align: right;\">\n",
       "      <th><\/th>\n",
       "      <th>chip<\/th>\n",
       "      <th>chipinstance<\/th>\n",
       "      <th>sd_freq<\/th>\n",
       "      <th>label<\/th>\n",
       "      <th>m_freq<\/th>\n",
       "      <th>cluster<\/th>\n",
       "    <\/tr>\n",
       "  <\/thead>\n",
       "  <tbody>\n",
       "    <tr>\n",
       "      <th>0<\/th>\n",
       "      <td>Chip1<\/td>\n",
       "      <td>C1I1<\/td>\n",
       "      <td>17.361956<\/td>\n",
       "      <td>0<\/td>\n",
       "      <td>220.55<\/td>\n",
       "      <td>3<\/td>\n",
       "    <\/tr>\n",
       "    <tr>\n",
       "      <th>1<\/th>\n",
       "      <td>Chip1<\/td>\n",
       "      <td>C1I2<\/td>\n",
       "      <td>16.164158<\/td>\n",
       "      <td>1<\/td>\n",
       "      <td>206.20<\/td>\n",
       "      <td>0<\/td>\n",
       "    <\/tr>\n",
       "    <tr>\n",
       "      <th>2<\/th>\n",
       "      <td>Chip1<\/td>\n",
       "      <td>C1I3<\/td>\n",
       "      <td>15.573616<\/td>\n",
       "      <td>1<\/td>\n",
       "      <td>199.25<\/td>\n",
       "      <td>0<\/td>\n",
       "    <\/tr>\n",
       "    <tr>\n",
       "      <th>3<\/th>\n",
       "      <td>Chip1<\/td>\n",
       "      <td>C1I4<\/td>\n",
       "      <td>15.307514<\/td>\n",
       "      <td>1<\/td>\n",
       "      <td>194.80<\/td>\n",
       "      <td>2<\/td>\n",
       "    <\/tr>\n",
       "    <tr>\n",
       "      <th>4<\/th>\n",
       "      <td>Chip1<\/td>\n",
       "      <td>C1I5<\/td>\n",
       "      <td>15.079042<\/td>\n",
       "      <td>1<\/td>\n",
       "      <td>190.85<\/td>\n",
       "      <td>2<\/td>\n",
       "    <\/tr>\n",
       "    <tr>\n",
       "      <th>...<\/th>\n",
       "      <td>...<\/td>\n",
       "      <td>...<\/td>\n",
       "      <td>...<\/td>\n",
       "      <td>...<\/td>\n",
       "      <td>...<\/td>\n",
       "      <td>...<\/td>\n",
       "    <\/tr>\n",
       "    <tr>\n",
       "      <th>795<\/th>\n",
       "      <td>Chip32<\/td>\n",
       "      <td>C32I21<\/td>\n",
       "      <td>13.473585<\/td>\n",
       "      <td>1<\/td>\n",
       "      <td>176.75<\/td>\n",
       "      <td>1<\/td>\n",
       "    <\/tr>\n",
       "    <tr>\n",
       "      <th>796<\/th>\n",
       "      <td>Chip32<\/td>\n",
       "      <td>C32I22<\/td>\n",
       "      <td>13.118594<\/td>\n",
       "      <td>1<\/td>\n",
       "      <td>170.35<\/td>\n",
       "      <td>1<\/td>\n",
       "    <\/tr>\n",
       "    <tr>\n",
       "      <th>797<\/th>\n",
       "      <td>Chip32<\/td>\n",
       "      <td>C32I23<\/td>\n",
       "      <td>12.648715<\/td>\n",
       "      <td>1<\/td>\n",
       "      <td>163.90<\/td>\n",
       "      <td>1<\/td>\n",
       "    <\/tr>\n",
       "    <tr>\n",
       "      <th>798<\/th>\n",
       "      <td>Chip32<\/td>\n",
       "      <td>C32I24<\/td>\n",
       "      <td>12.617349<\/td>\n",
       "      <td>1<\/td>\n",
       "      <td>163.35<\/td>\n",
       "      <td>1<\/td>\n",
       "    <\/tr>\n",
       "    <tr>\n",
       "      <th>799<\/th>\n",
       "      <td>Chip32<\/td>\n",
       "      <td>C32I25<\/td>\n",
       "      <td>16.564722<\/td>\n",
       "      <td>0<\/td>\n",
       "      <td>215.10<\/td>\n",
       "      <td>3<\/td>\n",
       "    <\/tr>\n",
       "  <\/tbody>\n",
       "<\/table>\n",
       "<p>800 rows × 6 columns<\/p>\n",
       "<\/div>"
      ]
     },
     "metadata":{
      
     },
     "output_type":"display_data"
    }
   ],
   "metadata":{
    "datalore":{
     "node_id":"2LxDpkwSrDf4cGVCM2Id4i",
     "type":"CODE",
     "hide_input_from_viewers":false,
     "hide_output_from_viewers":false
    }
   }
  },
  {
   "cell_type":"code",
   "source":[
    "import os  \n",
    "os.makedirs('\/data\/notebook_files\/test', exist_ok=True)  \n",
    "df.to_csv('\/data\/notebook_files\/test\/out.csv')  "
   ],
   "execution_count":16,
   "outputs":[
    
   ],
   "metadata":{
    "datalore":{
     "node_id":"T4YMP278DT21kSaWR60SZw",
     "type":"CODE",
     "hide_input_from_viewers":false,
     "hide_output_from_viewers":false
    }
   }
  },
  {
   "cell_type":"code",
   "source":[
    "df0 = pd.DataFrame(df.loc[df['label'] == 0])"
   ],
   "execution_count":17,
   "outputs":[
    
   ],
   "metadata":{
    "datalore":{
     "node_id":"QiqWkbAcLWGgulXHu4wkzu",
     "type":"CODE",
     "hide_input_from_viewers":false,
     "hide_output_from_viewers":false
    }
   }
  },
  {
   "cell_type":"code",
   "source":[
    "import os  \n",
    "os.makedirs('\/data\/notebook_files\/test', exist_ok=True)  \n",
    "df0.to_csv('\/data\/notebook_files\/test\/golden.csv')"
   ],
   "execution_count":18,
   "outputs":[
    
   ],
   "metadata":{
    "datalore":{
     "node_id":"faWpzp0hasQKSj7HGebEdv",
     "type":"CODE",
     "hide_input_from_viewers":false,
     "hide_output_from_viewers":false
    }
   }
  },
  {
   "cell_type":"code",
   "source":[
    "df1 = pd.DataFrame(df.loc[df['label'] == 1])"
   ],
   "execution_count":19,
   "outputs":[
    
   ],
   "metadata":{
    "datalore":{
     "node_id":"ROgRsR32KPRDXhlQidiYEn",
     "type":"CODE",
     "hide_input_from_viewers":false,
     "hide_output_from_viewers":false
    }
   }
  },
  {
   "cell_type":"code",
   "source":[
    "os.makedirs('\/data\/notebook_files\/test', exist_ok=True)  \n",
    "df1.to_csv('\/data\/notebook_files\/test\/trojan.csv')  "
   ],
   "execution_count":20,
   "outputs":[
    
   ],
   "metadata":{
    "datalore":{
     "node_id":"rUoCijDxM2dDoTc0542RQV",
     "type":"CODE",
     "hide_input_from_viewers":false,
     "hide_output_from_viewers":false
    }
   }
  },
  {
   "cell_type":"code",
   "source":[
    "df['predicted'] = df['cluster']\n",
    "df"
   ],
   "execution_count":21,
   "outputs":[
    {
     "data":{
      "text\/html":[
       "<div>\n",
       "<style scoped>\n",
       "    .dataframe tbody tr th:only-of-type {\n",
       "        vertical-align: middle;\n",
       "    }\n",
       "\n",
       "    .dataframe tbody tr th {\n",
       "        vertical-align: top;\n",
       "    }\n",
       "\n",
       "    .dataframe thead th {\n",
       "        text-align: right;\n",
       "    }\n",
       "<\/style>\n",
       "<table border=\"1\" class=\"dataframe\">\n",
       "  <thead>\n",
       "    <tr style=\"text-align: right;\">\n",
       "      <th><\/th>\n",
       "      <th>chip<\/th>\n",
       "      <th>chipinstance<\/th>\n",
       "      <th>sd_freq<\/th>\n",
       "      <th>label<\/th>\n",
       "      <th>m_freq<\/th>\n",
       "      <th>cluster<\/th>\n",
       "      <th>predicted<\/th>\n",
       "    <\/tr>\n",
       "  <\/thead>\n",
       "  <tbody>\n",
       "    <tr>\n",
       "      <th>0<\/th>\n",
       "      <td>Chip1<\/td>\n",
       "      <td>C1I1<\/td>\n",
       "      <td>17.361956<\/td>\n",
       "      <td>0<\/td>\n",
       "      <td>220.55<\/td>\n",
       "      <td>3<\/td>\n",
       "      <td>3<\/td>\n",
       "    <\/tr>\n",
       "    <tr>\n",
       "      <th>1<\/th>\n",
       "      <td>Chip1<\/td>\n",
       "      <td>C1I2<\/td>\n",
       "      <td>16.164158<\/td>\n",
       "      <td>1<\/td>\n",
       "      <td>206.20<\/td>\n",
       "      <td>0<\/td>\n",
       "      <td>0<\/td>\n",
       "    <\/tr>\n",
       "    <tr>\n",
       "      <th>2<\/th>\n",
       "      <td>Chip1<\/td>\n",
       "      <td>C1I3<\/td>\n",
       "      <td>15.573616<\/td>\n",
       "      <td>1<\/td>\n",
       "      <td>199.25<\/td>\n",
       "      <td>0<\/td>\n",
       "      <td>0<\/td>\n",
       "    <\/tr>\n",
       "    <tr>\n",
       "      <th>3<\/th>\n",
       "      <td>Chip1<\/td>\n",
       "      <td>C1I4<\/td>\n",
       "      <td>15.307514<\/td>\n",
       "      <td>1<\/td>\n",
       "      <td>194.80<\/td>\n",
       "      <td>2<\/td>\n",
       "      <td>2<\/td>\n",
       "    <\/tr>\n",
       "    <tr>\n",
       "      <th>4<\/th>\n",
       "      <td>Chip1<\/td>\n",
       "      <td>C1I5<\/td>\n",
       "      <td>15.079042<\/td>\n",
       "      <td>1<\/td>\n",
       "      <td>190.85<\/td>\n",
       "      <td>2<\/td>\n",
       "      <td>2<\/td>\n",
       "    <\/tr>\n",
       "    <tr>\n",
       "      <th>...<\/th>\n",
       "      <td>...<\/td>\n",
       "      <td>...<\/td>\n",
       "      <td>...<\/td>\n",
       "      <td>...<\/td>\n",
       "      <td>...<\/td>\n",
       "      <td>...<\/td>\n",
       "      <td>...<\/td>\n",
       "    <\/tr>\n",
       "    <tr>\n",
       "      <th>795<\/th>\n",
       "      <td>Chip32<\/td>\n",
       "      <td>C32I21<\/td>\n",
       "      <td>13.473585<\/td>\n",
       "      <td>1<\/td>\n",
       "      <td>176.75<\/td>\n",
       "      <td>1<\/td>\n",
       "      <td>1<\/td>\n",
       "    <\/tr>\n",
       "    <tr>\n",
       "      <th>796<\/th>\n",
       "      <td>Chip32<\/td>\n",
       "      <td>C32I22<\/td>\n",
       "      <td>13.118594<\/td>\n",
       "      <td>1<\/td>\n",
       "      <td>170.35<\/td>\n",
       "      <td>1<\/td>\n",
       "      <td>1<\/td>\n",
       "    <\/tr>\n",
       "    <tr>\n",
       "      <th>797<\/th>\n",
       "      <td>Chip32<\/td>\n",
       "      <td>C32I23<\/td>\n",
       "      <td>12.648715<\/td>\n",
       "      <td>1<\/td>\n",
       "      <td>163.90<\/td>\n",
       "      <td>1<\/td>\n",
       "      <td>1<\/td>\n",
       "    <\/tr>\n",
       "    <tr>\n",
       "      <th>798<\/th>\n",
       "      <td>Chip32<\/td>\n",
       "      <td>C32I24<\/td>\n",
       "      <td>12.617349<\/td>\n",
       "      <td>1<\/td>\n",
       "      <td>163.35<\/td>\n",
       "      <td>1<\/td>\n",
       "      <td>1<\/td>\n",
       "    <\/tr>\n",
       "    <tr>\n",
       "      <th>799<\/th>\n",
       "      <td>Chip32<\/td>\n",
       "      <td>C32I25<\/td>\n",
       "      <td>16.564722<\/td>\n",
       "      <td>0<\/td>\n",
       "      <td>215.10<\/td>\n",
       "      <td>3<\/td>\n",
       "      <td>3<\/td>\n",
       "    <\/tr>\n",
       "  <\/tbody>\n",
       "<\/table>\n",
       "<p>800 rows × 7 columns<\/p>\n",
       "<\/div>"
      ]
     },
     "metadata":{
      
     },
     "output_type":"display_data"
    }
   ],
   "metadata":{
    "datalore":{
     "node_id":"ahq9POATKA9FYOPtafioHC",
     "type":"CODE",
     "hide_input_from_viewers":false,
     "hide_output_from_viewers":false
    }
   }
  },
  {
   "cell_type":"code",
   "source":[
    "df['predicted'] = df['predicted'].replace([0,2], 1)\n",
    "df['predicted'] = df['predicted'].replace([3], 0)"
   ],
   "execution_count":22,
   "outputs":[
    
   ],
   "metadata":{
    "datalore":{
     "node_id":"FfWy5W4gG2leW2cFJpJX6Z",
     "type":"CODE",
     "hide_input_from_viewers":false,
     "hide_output_from_viewers":false
    }
   }
  },
  {
   "cell_type":"code",
   "source":[
    "df"
   ],
   "execution_count":23,
   "outputs":[
    {
     "data":{
      "text\/html":[
       "<div>\n",
       "<style scoped>\n",
       "    .dataframe tbody tr th:only-of-type {\n",
       "        vertical-align: middle;\n",
       "    }\n",
       "\n",
       "    .dataframe tbody tr th {\n",
       "        vertical-align: top;\n",
       "    }\n",
       "\n",
       "    .dataframe thead th {\n",
       "        text-align: right;\n",
       "    }\n",
       "<\/style>\n",
       "<table border=\"1\" class=\"dataframe\">\n",
       "  <thead>\n",
       "    <tr style=\"text-align: right;\">\n",
       "      <th><\/th>\n",
       "      <th>chip<\/th>\n",
       "      <th>chipinstance<\/th>\n",
       "      <th>sd_freq<\/th>\n",
       "      <th>label<\/th>\n",
       "      <th>m_freq<\/th>\n",
       "      <th>cluster<\/th>\n",
       "      <th>predicted<\/th>\n",
       "    <\/tr>\n",
       "  <\/thead>\n",
       "  <tbody>\n",
       "    <tr>\n",
       "      <th>0<\/th>\n",
       "      <td>Chip1<\/td>\n",
       "      <td>C1I1<\/td>\n",
       "      <td>17.361956<\/td>\n",
       "      <td>0<\/td>\n",
       "      <td>220.55<\/td>\n",
       "      <td>3<\/td>\n",
       "      <td>0<\/td>\n",
       "    <\/tr>\n",
       "    <tr>\n",
       "      <th>1<\/th>\n",
       "      <td>Chip1<\/td>\n",
       "      <td>C1I2<\/td>\n",
       "      <td>16.164158<\/td>\n",
       "      <td>1<\/td>\n",
       "      <td>206.20<\/td>\n",
       "      <td>0<\/td>\n",
       "      <td>1<\/td>\n",
       "    <\/tr>\n",
       "    <tr>\n",
       "      <th>2<\/th>\n",
       "      <td>Chip1<\/td>\n",
       "      <td>C1I3<\/td>\n",
       "      <td>15.573616<\/td>\n",
       "      <td>1<\/td>\n",
       "      <td>199.25<\/td>\n",
       "      <td>0<\/td>\n",
       "      <td>1<\/td>\n",
       "    <\/tr>\n",
       "    <tr>\n",
       "      <th>3<\/th>\n",
       "      <td>Chip1<\/td>\n",
       "      <td>C1I4<\/td>\n",
       "      <td>15.307514<\/td>\n",
       "      <td>1<\/td>\n",
       "      <td>194.80<\/td>\n",
       "      <td>2<\/td>\n",
       "      <td>1<\/td>\n",
       "    <\/tr>\n",
       "    <tr>\n",
       "      <th>4<\/th>\n",
       "      <td>Chip1<\/td>\n",
       "      <td>C1I5<\/td>\n",
       "      <td>15.079042<\/td>\n",
       "      <td>1<\/td>\n",
       "      <td>190.85<\/td>\n",
       "      <td>2<\/td>\n",
       "      <td>1<\/td>\n",
       "    <\/tr>\n",
       "    <tr>\n",
       "      <th>...<\/th>\n",
       "      <td>...<\/td>\n",
       "      <td>...<\/td>\n",
       "      <td>...<\/td>\n",
       "      <td>...<\/td>\n",
       "      <td>...<\/td>\n",
       "      <td>...<\/td>\n",
       "      <td>...<\/td>\n",
       "    <\/tr>\n",
       "    <tr>\n",
       "      <th>795<\/th>\n",
       "      <td>Chip32<\/td>\n",
       "      <td>C32I21<\/td>\n",
       "      <td>13.473585<\/td>\n",
       "      <td>1<\/td>\n",
       "      <td>176.75<\/td>\n",
       "      <td>1<\/td>\n",
       "      <td>1<\/td>\n",
       "    <\/tr>\n",
       "    <tr>\n",
       "      <th>796<\/th>\n",
       "      <td>Chip32<\/td>\n",
       "      <td>C32I22<\/td>\n",
       "      <td>13.118594<\/td>\n",
       "      <td>1<\/td>\n",
       "      <td>170.35<\/td>\n",
       "      <td>1<\/td>\n",
       "      <td>1<\/td>\n",
       "    <\/tr>\n",
       "    <tr>\n",
       "      <th>797<\/th>\n",
       "      <td>Chip32<\/td>\n",
       "      <td>C32I23<\/td>\n",
       "      <td>12.648715<\/td>\n",
       "      <td>1<\/td>\n",
       "      <td>163.90<\/td>\n",
       "      <td>1<\/td>\n",
       "      <td>1<\/td>\n",
       "    <\/tr>\n",
       "    <tr>\n",
       "      <th>798<\/th>\n",
       "      <td>Chip32<\/td>\n",
       "      <td>C32I24<\/td>\n",
       "      <td>12.617349<\/td>\n",
       "      <td>1<\/td>\n",
       "      <td>163.35<\/td>\n",
       "      <td>1<\/td>\n",
       "      <td>1<\/td>\n",
       "    <\/tr>\n",
       "    <tr>\n",
       "      <th>799<\/th>\n",
       "      <td>Chip32<\/td>\n",
       "      <td>C32I25<\/td>\n",
       "      <td>16.564722<\/td>\n",
       "      <td>0<\/td>\n",
       "      <td>215.10<\/td>\n",
       "      <td>3<\/td>\n",
       "      <td>0<\/td>\n",
       "    <\/tr>\n",
       "  <\/tbody>\n",
       "<\/table>\n",
       "<p>800 rows × 7 columns<\/p>\n",
       "<\/div>"
      ]
     },
     "metadata":{
      
     },
     "output_type":"display_data"
    }
   ],
   "metadata":{
    "datalore":{
     "node_id":"JN4qtONlxjWRv9PvsHwMRM",
     "type":"CODE",
     "hide_input_from_viewers":false,
     "hide_output_from_viewers":false
    }
   }
  },
  {
   "cell_type":"code",
   "source":[
    "y_test = df.label\n",
    "y_pred_class = df.predicted"
   ],
   "execution_count":24,
   "outputs":[
    
   ],
   "metadata":{
    "datalore":{
     "node_id":"WvZxaUJcHxmJYJ0c5b17Uy",
     "type":"CODE",
     "hide_input_from_viewers":false,
     "hide_output_from_viewers":false
    }
   }
  },
  {
   "cell_type":"code",
   "source":[
    "dfz = df['label'].value_counts()\n",
    "print(dfz)"
   ],
   "execution_count":25,
   "outputs":[
    {
     "name":"stdout",
     "text":[
      "1    736\n",
      "0     64\n",
      "Name: label, dtype: int64\n"
     ],
     "output_type":"stream"
    }
   ],
   "metadata":{
    "datalore":{
     "node_id":"I1WZOUykbShDt3zGQYpIhq",
     "type":"CODE",
     "hide_input_from_viewers":false,
     "hide_output_from_viewers":false
    }
   }
  },
  {
   "cell_type":"code",
   "source":[
    "from sklearn.metrics import confusion_matrix, ConfusionMatrixDisplay\n",
    "cm = confusion_matrix(y_test, y_pred_class)\n",
    "cmd = ConfusionMatrixDisplay(cm, display_labels=['Trojan Free: 0','Trojan Infected: 1'])\n",
    "cmd.plot()"
   ],
   "execution_count":26,
   "outputs":[
    {
     "data":{
      "text\/plain":[
       "<sklearn.metrics._plot.confusion_matrix.ConfusionMatrixDisplay at 0x7f825295b460>"
      ]
     },
     "metadata":{
      
     },
     "output_type":"display_data"
    },
    {
     "data":{
      "image\/png":"[encoded data removed]"
     },
     "metadata":{
      "image\/png":{
       
      }
     },
     "output_type":"display_data"
    }
   ],
   "metadata":{
    "datalore":{
     "node_id":"0P7J2hUqr738xj4apTwCaf",
     "type":"CODE",
     "hide_input_from_viewers":false,
     "hide_output_from_viewers":false
    }
   }
  },
  {
   "cell_type":"code",
   "source":[
    "TN = cm[0][0]\n",
    "FN = cm[1][0]\n",
    "TP = cm[1][1]\n",
    "FP = cm[0][1]\n",
    "TPR = TP\/(TP + FN)\n",
    "TNR = TN\/(TN + FP)\n",
    "FNR = FN\/(FN + TP)\n",
    "FPR = FN\/(FN + TN)\n",
    "\n",
    "print(TN)\n",
    "print(cm)\n",
    "result = [TPR, TNR, FNR, FPR]\n",
    "print(result)"
   ],
   "execution_count":27,
   "outputs":[
    {
     "name":"stdout",
     "text":[
      "60\n",
      "[[ 60   4]\n",
      " [ 74 662]]\n",
      "[0.8994565217391305, 0.9375, 0.10054347826086957, 0.5522388059701493]\n"
     ],
     "output_type":"stream"
    }
   ],
   "metadata":{
    "datalore":{
     "node_id":"SNtFKtCx8ot1tXKGqAiT0Q",
     "type":"CODE",
     "hide_input_from_viewers":false,
     "hide_output_from_viewers":false
    }
   }
  },
  {
   "cell_type":"code",
   "source":[
    "acc = (TP + TN)\/(TP + TN + FP + FN)\n",
    "precision = TP\/(TP + FP)\n",
    "print(\"The accuracy of the model is\", acc)\n",
    "print(\"The precision of the model is\", precision)"
   ],
   "execution_count":28,
   "outputs":[
    {
     "name":"stdout",
     "text":[
      "The accuracy of the model is 0.9025\n",
      "The precision of the model is 0.993993993993994\n"
     ],
     "output_type":"stream"
    }
   ],
   "metadata":{
    "datalore":{
     "node_id":"XTLaGG4GjKPx5SZJOpX5F3",
     "type":"CODE",
     "hide_input_from_viewers":false,
     "hide_output_from_viewers":false
    }
   }
  },
  {
   "cell_type":"code",
   "source":[
    "import sklearn.metrics as metrics\n",
    "# calculate the fpr and tpr for all thresholds of the classification\n",
    "\n",
    "fpr, tpr, threshold = metrics.roc_curve(y_test, y_pred_class)\n",
    "roc_auc = metrics.auc(fpr, tpr)\n",
    "\n",
    "# method I: plt\n",
    "import matplotlib.pyplot as plt\n",
    "plt.title('ROC Curve: Hardware Trojan Prediction')\n",
    "plt.plot(fpr, tpr, 'b', label = 'AUC = %0.2f' % roc_auc)\n",
    "plt.legend(loc = 'lower right')\n",
    "plt.plot([0, 1], [0, 1],'r--')\n",
    "plt.xlim([0, 1])\n",
    "plt.ylim([0, 1])\n",
    "plt.ylabel('True Positive Rate')\n",
    "plt.xlabel('False Positive Rate')\n",
    "plt.show()"
   ],
   "execution_count":35,
   "outputs":[
    {
     "data":{
      "image\/png":"[encoded data removed]"
     },
     "metadata":{
      "image\/png":{
       
      }
     },
     "output_type":"display_data"
    }
   ],
   "metadata":{
    "datalore":{
     "node_id":"L9pseeWia8zlDV9FMhqJe0",
     "type":"CODE",
     "hide_input_from_viewers":false,
     "hide_output_from_viewers":false
    }
   }
  },
  {
   "cell_type":"code",
   "source":[
    "#ROC is the plot of true positive rate against false positive rate at various classification threshold. AUC is the area under the ROC curve, and higher AUC indicates better model performance."
   ],
   "execution_count":36,
   "outputs":[
    
   ],
   "metadata":{
    "datalore":{
     "node_id":"J5Xz5soAqGNzIHtQj1lKDH",
     "type":"CODE",
     "hide_input_from_viewers":false,
     "hide_output_from_viewers":false
    }
   }
  },
  {
   "cell_type":"code",
   "source":[
    "\n",
    "# cross-entropy for predicted probability distribution vs label\n",
    "from math import log\n",
    "from matplotlib import pyplot\n",
    " \n",
    "# calculate cross-entropy\n",
    "def cross_entropy(p, q, ets=1e-15):\n",
    "\treturn -sum([p[i]*log(q[i]+ets) for i in range(len(p))])\n",
    " \n",
    "# define the target distribution for two events\n",
    "target = [0.0, 1.0]\n",
    "# define probabilities for the first event\n",
    "probs = [1.0, 0.9, 0.8, 0.7, 0.6, 0.5, 0.4, 0.3, 0.2, 0.1]\n",
    "# create probability distributions for the two events\n",
    "dists = [[1.0 - p, p] for p in probs]\n",
    "# calculate cross-entropy for each distribution\n",
    "ents = [cross_entropy(target, d) for d in dists]\n",
    "# plot probability distribution vs cross-entropy\n",
    "pyplot.plot([1-p for p in probs], ents, marker='.')\n",
    "pyplot.title('Probability Distribution vs Cross-Entropy')\n",
    "pyplot.xticks([1-p for p in probs], ['[%.1f,%.1f]'%(d[0],d[1]) for d in dists], rotation=70)\n",
    "pyplot.subplots_adjust(bottom=0.2)\n",
    "pyplot.xlabel('Probability Distribution')\n",
    "pyplot.ylabel('Cross-Entropy (nats)')\n",
    "pyplot.show()"
   ],
   "execution_count":39,
   "outputs":[
    {
     "data":{
      "image\/png":"[encoded data removed]"
     },
     "metadata":{
      "image\/png":{
       
      }
     },
     "output_type":"display_data"
    }
   ],
   "metadata":{
    "datalore":{
     "node_id":"5ZFL8nsjIORUXQ75hwYMXB",
     "type":"CODE",
     "hide_input_from_viewers":false,
     "hide_output_from_viewers":false
    }
   }
  },
  {
   "cell_type":"code",
   "source":[
    
   ],
   "execution_count":null,
   "outputs":[
    
   ],
   "metadata":{
    "datalore":{
     "node_id":"yJTuEEwxZWAsRc3l5nNiC6",
     "type":"CODE",
     "hide_input_from_viewers":false,
     "hide_output_from_viewers":false
    }
   }
  }
 ],
 "metadata":{
  "kernelspec":{
   "display_name":"Python",
   "language":"python",
   "name":"python"
  },
  "datalore":{
   "version":1,
   "computation_mode":"JUPYTER",
   "package_manager":"pip",
   "base_environment":"default",
   "packages":[
    {
     "name":"scikit-plot",
     "version":"0.3.7",
     "source":"PIP"
    }
   ]
  }
 },
 "nbformat":4,
 "nbformat_minor":4
}