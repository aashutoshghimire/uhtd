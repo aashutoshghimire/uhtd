{
 "cells": [
  {
   "cell_type": "code",
   "execution_count": 1,
   "id": "5f0d0875",
   "metadata": {},
   "outputs": [],
   "source": [
    "#concatenate all the files\n",
    "\n",
    "# import pandas as pd\n",
    "# import sys\n",
    "# files = []\n",
    "# for i in range(32):\n",
    "#     x = str(i + 1)\n",
    "#     filename = 'data/csv/Chip'+x+'.csv'\n",
    "#     files.append(pd.read_csv(filename, header=None))"
   ]
  },
  {
   "cell_type": "code",
   "execution_count": 2,
   "id": "122f77ac",
   "metadata": {},
   "outputs": [],
   "source": [
    "import pandas as pd\n",
    "import sys\n",
    "import numpy"
   ]
  },
  {
   "cell_type": "code",
   "execution_count": 3,
   "id": "7d0650b9",
   "metadata": {},
   "outputs": [
    {
     "name": "stdout",
     "output_type": "stream",
     "text": [
      "17.361955535019668\n",
      "102.60281249999984\n"
     ]
    }
   ],
   "source": [
    "x =  [189.2,201.2,223.2,234.4,220.8,226.4,220.0,249.2]\n",
    "print(numpy.std(x))\n",
    "s = 0\n",
    "s2 = 0\n",
    "for i in x:\n",
    "    s = s + i\n",
    "    s2 = (i-220.55)**2\n",
    "print(s2/8)"
   ]
  },
  {
   "cell_type": "code",
   "execution_count": 4,
   "id": "9c6f47d0",
   "metadata": {},
   "outputs": [
    {
     "name": "stdout",
     "output_type": "stream",
     "text": [
      "       chip chipinstance    sd_freq    mean label\n",
      "0     Chip1         C1I1  17.361956  220.55     0\n",
      "1     Chip1         C1I2  16.164158  206.20     1\n",
      "2     Chip1         C1I3  15.573616  199.25     1\n",
      "3     Chip1         C1I4  15.307514  194.80     1\n",
      "4     Chip1         C1I5  15.079042  190.85     1\n",
      "..      ...          ...        ...     ...   ...\n",
      "795  Chip32       C32I21  13.473585  176.75     1\n",
      "796  Chip32       C32I22  13.118594  170.35     1\n",
      "797  Chip32       C32I23  12.648715  163.90     1\n",
      "798  Chip32       C32I24  12.617349  163.35     1\n",
      "799  Chip32       C32I25  16.564722  215.10     0\n",
      "\n",
      "[800 rows x 5 columns]\n"
     ]
    }
   ],
   "source": [
    "\n",
    "#since first and last row are trojan free, it is 0. remaining rows are trojan infected so labeled as 1\n",
    "label = pd.read_csv('data/csv/default_label.csv', header=None)\n",
    "#declare output file\n",
    "df = pd.DataFrame()\n",
    "df = pd.DataFrame(columns=['chip', 'chipinstance','sd_freq', 'mean','label'])\n",
    "#we know that there are 32 files. not 33 (since Chip20.xlsx was missing in data folder)\n",
    "mean = 0\n",
    "for i in range(32):\n",
    "    x = str(i + 1)\n",
    "    #making file name dynamic to load every files\n",
    "    filename = 'data/csv/Chip'+x+'.csv'\n",
    "    #header none because 1 row is also data, not label\n",
    "    df_file = pd.read_csv(filename, header=None)\n",
    "    #transpose is done because sd works for column value only in numpy\n",
    "    sd_list = numpy.std(df_file.transpose())\n",
    "    df_trans = df_file.transpose()\n",
    "    mean_list = df_trans.mean()    \n",
    "    arr_label = label.iloc[:,0].values\n",
    "    #making file name dynamic to load every files\n",
    "    arr_chip = ['Chip'+x] * 25\n",
    "    arr_ins = range(25)\n",
    "    chip_ins = ['i'] * 25\n",
    "#     print(type(chip_ins))\n",
    "    for ii in range(25):\n",
    "        y = str(ii + 1)\n",
    "        chip_ins[ii] = 'C'+x+'I'+y\n",
    "#     print(chip_ins)\n",
    "#     print(arr_chip)\n",
    "#     print(arr_ins)\n",
    "    xtra = {'chip': arr_chip, 'chipinstance': chip_ins,'sd_freq': sd_list, 'mean': mean_list, 'label': arr_label}\n",
    "    df = df.append(pd.DataFrame(xtra), ignore_index=True)\n",
    "print(df)\n",
    "    \n",
    "#     sys.exit()\n"
   ]
  },
  {
   "cell_type": "code",
   "execution_count": 5,
   "id": "ae583bc8",
   "metadata": {},
   "outputs": [
    {
     "name": "stdout",
     "output_type": "stream",
     "text": [
      "       chip chipinstance    sd_freq    mean label\n",
      "0     Chip1         C1I1  17.361956  220.55     0\n",
      "1     Chip1         C1I2  16.164158  206.20     1\n",
      "2     Chip1         C1I3  15.573616  199.25     1\n",
      "3     Chip1         C1I4  15.307514  194.80     1\n",
      "4     Chip1         C1I5  15.079042  190.85     1\n",
      "..      ...          ...        ...     ...   ...\n",
      "795  Chip32       C32I21  13.473585  176.75     1\n",
      "796  Chip32       C32I22  13.118594  170.35     1\n",
      "797  Chip32       C32I23  12.648715  163.90     1\n",
      "798  Chip32       C32I24  12.617349  163.35     1\n",
      "799  Chip32       C32I25  16.564722  215.10     0\n",
      "\n",
      "[800 rows x 5 columns]\n"
     ]
    }
   ],
   "source": [
    "print(df)"
   ]
  },
  {
   "cell_type": "code",
   "execution_count": 6,
   "id": "1b8aa6d5",
   "metadata": {},
   "outputs": [],
   "source": [
    "#save our output dataframe in csv file\n",
    "df.to_csv('data/ro_freq_sd_mean.csv', encoding='utf-8', index=False)"
   ]
  },
  {
   "cell_type": "code",
   "execution_count": null,
   "id": "52352a70",
   "metadata": {},
   "outputs": [],
   "source": []
  }
 ],
 "metadata": {
  "kernelspec": {
   "display_name": "Python 3",
   "language": "python",
   "name": "python3"
  },
  "language_info": {
   "codemirror_mode": {
    "name": "ipython",
    "version": 3
   },
   "file_extension": ".py",
   "mimetype": "text/x-python",
   "name": "python",
   "nbconvert_exporter": "python",
   "pygments_lexer": "ipython3",
   "version": "3.8.8"
  }
 },
 "nbformat": 4,
 "nbformat_minor": 5
}
