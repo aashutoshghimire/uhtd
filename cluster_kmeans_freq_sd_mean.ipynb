{
 "cells": [
  {
   "cell_type": "markdown",
   "metadata": {},
   "source": [
    "<h1 align='center' style='color:purple'>Clustering With K Means - Python Tutorial</h1>"
   ]
  },
  {
   "cell_type": "code",
   "execution_count": 1,
   "metadata": {},
   "outputs": [],
   "source": [
    "from sklearn.cluster import KMeans\n",
    "import pandas as pd\n",
    "from sklearn.preprocessing import MinMaxScaler\n",
    "from matplotlib import pyplot as plt\n",
    "%matplotlib inline"
   ]
  },
  {
   "cell_type": "code",
   "execution_count": 2,
   "metadata": {},
   "outputs": [
    {
     "data": {
      "text/html": [
       "<div>\n",
       "<style scoped>\n",
       "    .dataframe tbody tr th:only-of-type {\n",
       "        vertical-align: middle;\n",
       "    }\n",
       "\n",
       "    .dataframe tbody tr th {\n",
       "        vertical-align: top;\n",
       "    }\n",
       "\n",
       "    .dataframe thead th {\n",
       "        text-align: right;\n",
       "    }\n",
       "</style>\n",
       "<table border=\"1\" class=\"dataframe\">\n",
       "  <thead>\n",
       "    <tr style=\"text-align: right;\">\n",
       "      <th></th>\n",
       "      <th>chip</th>\n",
       "      <th>chipinstance</th>\n",
       "      <th>sd_freq</th>\n",
       "      <th>mean</th>\n",
       "      <th>label</th>\n",
       "    </tr>\n",
       "  </thead>\n",
       "  <tbody>\n",
       "    <tr>\n",
       "      <th>0</th>\n",
       "      <td>Chip1</td>\n",
       "      <td>C1I1</td>\n",
       "      <td>17.361956</td>\n",
       "      <td>220.55</td>\n",
       "      <td>0</td>\n",
       "    </tr>\n",
       "    <tr>\n",
       "      <th>1</th>\n",
       "      <td>Chip1</td>\n",
       "      <td>C1I2</td>\n",
       "      <td>16.164158</td>\n",
       "      <td>206.20</td>\n",
       "      <td>1</td>\n",
       "    </tr>\n",
       "    <tr>\n",
       "      <th>2</th>\n",
       "      <td>Chip1</td>\n",
       "      <td>C1I3</td>\n",
       "      <td>15.573616</td>\n",
       "      <td>199.25</td>\n",
       "      <td>1</td>\n",
       "    </tr>\n",
       "    <tr>\n",
       "      <th>3</th>\n",
       "      <td>Chip1</td>\n",
       "      <td>C1I4</td>\n",
       "      <td>15.307514</td>\n",
       "      <td>194.80</td>\n",
       "      <td>1</td>\n",
       "    </tr>\n",
       "    <tr>\n",
       "      <th>4</th>\n",
       "      <td>Chip1</td>\n",
       "      <td>C1I5</td>\n",
       "      <td>15.079042</td>\n",
       "      <td>190.85</td>\n",
       "      <td>1</td>\n",
       "    </tr>\n",
       "  </tbody>\n",
       "</table>\n",
       "</div>"
      ],
      "text/plain": [
       "    chip chipinstance    sd_freq    mean  label\n",
       "0  Chip1         C1I1  17.361956  220.55      0\n",
       "1  Chip1         C1I2  16.164158  206.20      1\n",
       "2  Chip1         C1I3  15.573616  199.25      1\n",
       "3  Chip1         C1I4  15.307514  194.80      1\n",
       "4  Chip1         C1I5  15.079042  190.85      1"
      ]
     },
     "execution_count": 2,
     "metadata": {},
     "output_type": "execute_result"
    }
   ],
   "source": [
    "df = pd.read_csv('data/ro_freq_sd_mean.csv')\n",
    "df.head()"
   ]
  },
  {
   "cell_type": "code",
   "execution_count": 3,
   "metadata": {},
   "outputs": [
    {
     "name": "stdout",
     "output_type": "stream",
     "text": [
      "       chip chipinstance    sd_freq  label  m_freq\n",
      "0     Chip1         C1I1  17.361956      0  220.55\n",
      "1     Chip1         C1I2  16.164158      1  206.20\n",
      "2     Chip1         C1I3  15.573616      1  199.25\n",
      "3     Chip1         C1I4  15.307514      1  194.80\n",
      "4     Chip1         C1I5  15.079042      1  190.85\n",
      "..      ...          ...        ...    ...     ...\n",
      "795  Chip32       C32I21  13.473585      1  176.75\n",
      "796  Chip32       C32I22  13.118594      1  170.35\n",
      "797  Chip32       C32I23  12.648715      1  163.90\n",
      "798  Chip32       C32I24  12.617349      1  163.35\n",
      "799  Chip32       C32I25  16.564722      0  215.10\n",
      "\n",
      "[800 rows x 5 columns]\n"
     ]
    }
   ],
   "source": [
    "df['sd_freq'] = df['sd_freq']\n",
    "df['m_freq'] = df['mean']\n",
    "# del df['sd_freq']\n",
    "del df['mean']\n",
    "print(df)\n"
   ]
  },
  {
   "cell_type": "code",
   "execution_count": 4,
   "metadata": {},
   "outputs": [
    {
     "data": {
      "text/plain": [
       "Text(0, 0.5, 'm_freq')"
      ]
     },
     "execution_count": 4,
     "metadata": {},
     "output_type": "execute_result"
    },
    {
     "data": {
      "image/png": "[encoded data removed]",
      "text/plain": [
       "<Figure size 432x288 with 1 Axes>"
      ]
     },
     "metadata": {
      "needs_background": "light"
     },
     "output_type": "display_data"
    }
   ],
   "source": [
    "plt.scatter(df['sd_freq'],df['m_freq'])\n",
    "plt.xlabel('sd_freq')\n",
    "plt.ylabel('m_freq')"
   ]
  },
  {
   "cell_type": "code",
   "execution_count": 5,
   "metadata": {},
   "outputs": [],
   "source": [
    "df0 = pd.DataFrame(df.loc[df['label'] == 0])\n",
    "df1 = pd.DataFrame(df.loc[df['label'] == 1])"
   ]
  },
  {
   "cell_type": "code",
   "execution_count": 6,
   "metadata": {},
   "outputs": [
    {
     "data": {
      "text/plain": [
       "<matplotlib.collections.PathCollection at 0x20082c548e0>"
      ]
     },
     "execution_count": 6,
     "metadata": {},
     "output_type": "execute_result"
    },
    {
     "data": {
      "image/png": "[encoded data removed]",
      "text/plain": [
       "<Figure size 432x288 with 1 Axes>"
      ]
     },
     "metadata": {
      "needs_background": "light"
     },
     "output_type": "display_data"
    }
   ],
   "source": [
    "plt.xlabel('sd_freq')\n",
    "plt.ylabel('m_freq')\n",
    "plt.scatter(df0['sd_freq'], df0['m_freq'],color=\"green\",marker='+')"
   ]
  },
  {
   "cell_type": "code",
   "execution_count": 7,
   "metadata": {},
   "outputs": [
    {
     "data": {
      "text/plain": [
       "<matplotlib.collections.PathCollection at 0x20082cc2b50>"
      ]
     },
     "execution_count": 7,
     "metadata": {},
     "output_type": "execute_result"
    },
    {
     "data": {
      "image/png": "[encoded data removed]",
      "text/plain": [
       "<Figure size 432x288 with 1 Axes>"
      ]
     },
     "metadata": {
      "needs_background": "light"
     },
     "output_type": "display_data"
    }
   ],
   "source": [
    "plt.xlabel('sd_freq')\n",
    "plt.ylabel('m_freq')\n",
    "# plt.scatter(df0['freq'], df0['values'],color=\"green\",marker='+')\n",
    "plt.scatter(df1['sd_freq'], df1['m_freq'],color=\"blue\",marker='.')"
   ]
  },
  {
   "cell_type": "code",
   "execution_count": 8,
   "metadata": {},
   "outputs": [],
   "source": [
    "# scaler = MinMaxScaler()\n",
    "\n",
    "# scaler.fit(df[['freq']])\n",
    "# df['freq'] = scaler.transform(df[['freq']])\n",
    "\n",
    "# scaler.fit(df[['time']])\n",
    "# df['time'] = scaler.transform(df[['time']])"
   ]
  },
  {
   "cell_type": "code",
   "execution_count": 9,
   "metadata": {},
   "outputs": [],
   "source": [
    "# df.head()"
   ]
  },
  {
   "cell_type": "code",
   "execution_count": 10,
   "metadata": {},
   "outputs": [],
   "source": [
    "# plt.scatter(df.time,df['freq'])\n",
    "# plt.xlabel('time')\n",
    "# plt.ylabel('freq')"
   ]
  },
  {
   "cell_type": "markdown",
   "metadata": {},
   "source": [
    "<h4 style='color:purple'>Elbow Plot</h4>"
   ]
  },
  {
   "cell_type": "code",
   "execution_count": 11,
   "metadata": {},
   "outputs": [
    {
     "name": "stderr",
     "output_type": "stream",
     "text": [
      "C:\\Users\\Ashutosh\\anaconda3\\lib\\site-packages\\sklearn\\cluster\\_kmeans.py:881: UserWarning: KMeans is known to have a memory leak on Windows with MKL, when there are less chunks than available threads. You can avoid it by setting the environment variable OMP_NUM_THREADS=4.\n",
      "  warnings.warn(\n"
     ]
    }
   ],
   "source": [
    "sse = []\n",
    "k_rng = range(1,9)\n",
    "for k in k_rng:\n",
    "    km = KMeans(n_clusters=k)\n",
    "    km.fit(df[['sd_freq','m_freq']])\n",
    "    sse.append(km.inertia_)"
   ]
  },
  {
   "cell_type": "code",
   "execution_count": 12,
   "metadata": {},
   "outputs": [
    {
     "data": {
      "text/plain": [
       "[<matplotlib.lines.Line2D at 0x20082d77e80>]"
      ]
     },
     "execution_count": 12,
     "metadata": {},
     "output_type": "execute_result"
    },
    {
     "data": {
      "image/png": "[encoded data removed]",
      "text/plain": [
       "<Figure size 432x288 with 1 Axes>"
      ]
     },
     "metadata": {
      "needs_background": "light"
     },
     "output_type": "display_data"
    }
   ],
   "source": [
    "plt.xlabel('K')\n",
    "plt.ylabel('Sum of squared error')\n",
    "plt.plot(k_rng,sse)"
   ]
  },
  {
   "cell_type": "code",
   "execution_count": 13,
   "metadata": {},
   "outputs": [
    {
     "data": {
      "text/plain": [
       "array([0, 2, 2, 1, 1, 1, 1, 3, 1, 0, 2, 2, 2, 2, 2, 2, 2, 2, 1, 1, 3, 3,\n",
       "       3, 3, 0, 0, 2, 1, 1, 1, 1, 3, 3, 1, 2, 2, 2, 2, 2, 1, 1, 2, 2, 1,\n",
       "       1, 3, 3, 3, 3, 0, 0, 2, 1, 1, 1, 1, 3, 3, 1, 2, 2, 2, 2, 2, 1, 1,\n",
       "       2, 2, 1, 1, 3, 3, 3, 3, 0, 0, 0, 2, 2, 2, 2, 1, 1, 2, 0, 0, 0, 0,\n",
       "       0, 2, 2, 0, 0, 2, 2, 1, 1, 3, 3, 0, 0, 2, 2, 2, 1, 1, 1, 1, 2, 0,\n",
       "       0, 2, 2, 2, 2, 2, 0, 2, 2, 1, 1, 3, 3, 3, 0, 0, 2, 2, 1, 1, 1, 1,\n",
       "       3, 1, 0, 2, 2, 2, 2, 2, 2, 2, 2, 1, 1, 3, 3, 3, 3, 0, 0, 2, 1, 1,\n",
       "       1, 1, 3, 3, 1, 2, 2, 2, 2, 2, 1, 1, 2, 2, 1, 1, 3, 3, 3, 3, 0, 0,\n",
       "       0, 0, 2, 2, 2, 1, 1, 2, 0, 0, 0, 0, 0, 0, 2, 0, 0, 2, 2, 1, 1, 3,\n",
       "       3, 0, 0, 2, 2, 1, 1, 1, 3, 3, 1, 2, 2, 2, 2, 2, 2, 2, 2, 2, 1, 1,\n",
       "       3, 3, 3, 3, 0, 0, 2, 2, 1, 1, 1, 3, 3, 1, 2, 2, 2, 2, 2, 2, 1, 2,\n",
       "       2, 1, 1, 3, 3, 3, 3, 0, 0, 2, 1, 1, 1, 1, 3, 3, 1, 2, 2, 2, 2, 2,\n",
       "       1, 1, 2, 2, 1, 1, 3, 3, 3, 3, 0, 0, 2, 1, 1, 1, 1, 3, 3, 1, 2, 2,\n",
       "       2, 2, 2, 2, 1, 2, 2, 1, 1, 3, 3, 3, 3, 0, 0, 0, 0, 0, 0, 0, 2, 2,\n",
       "       0, 0, 0, 0, 0, 0, 0, 0, 0, 0, 0, 0, 2, 2, 1, 2, 0, 0, 2, 1, 1, 1,\n",
       "       1, 3, 3, 1, 2, 2, 2, 2, 2, 1, 1, 2, 2, 1, 1, 3, 3, 3, 3, 0, 0, 0,\n",
       "       2, 2, 2, 2, 1, 1, 2, 0, 0, 0, 0, 0, 0, 2, 0, 0, 2, 2, 1, 1, 3, 3,\n",
       "       0, 0, 2, 2, 1, 1, 1, 1, 3, 1, 0, 2, 2, 2, 2, 2, 2, 2, 2, 1, 1, 3,\n",
       "       3, 3, 3, 0, 0, 0, 2, 2, 2, 1, 1, 1, 2, 0, 0, 0, 0, 2, 2, 2, 0, 2,\n",
       "       2, 1, 1, 3, 3, 3, 0, 0, 2, 1, 1, 1, 1, 3, 3, 1, 2, 2, 2, 2, 2, 2,\n",
       "       1, 2, 2, 1, 1, 3, 3, 3, 3, 0, 0, 2, 1, 1, 1, 1, 3, 3, 1, 2, 2, 2,\n",
       "       2, 2, 1, 1, 2, 1, 1, 1, 3, 3, 3, 3, 0, 0, 2, 1, 1, 1, 1, 3, 3, 1,\n",
       "       2, 2, 2, 2, 2, 1, 1, 2, 2, 1, 1, 3, 3, 3, 3, 0, 0, 2, 1, 1, 1, 1,\n",
       "       3, 3, 1, 2, 2, 2, 2, 2, 1, 1, 2, 2, 1, 1, 3, 3, 3, 3, 0, 0, 2, 1,\n",
       "       1, 1, 3, 3, 3, 1, 2, 2, 2, 2, 1, 1, 1, 2, 1, 1, 1, 3, 3, 3, 3, 0,\n",
       "       0, 2, 1, 1, 1, 1, 3, 3, 1, 2, 2, 2, 2, 2, 2, 1, 2, 2, 1, 1, 3, 3,\n",
       "       3, 3, 0, 0, 2, 2, 1, 1, 1, 3, 3, 1, 2, 2, 2, 2, 2, 2, 1, 2, 2, 1,\n",
       "       1, 3, 3, 3, 3, 0, 0, 2, 1, 1, 1, 1, 3, 3, 1, 2, 2, 2, 2, 2, 2, 1,\n",
       "       2, 2, 1, 1, 3, 3, 3, 3, 0, 0, 2, 1, 1, 1, 1, 3, 3, 1, 2, 2, 2, 2,\n",
       "       2, 1, 1, 2, 2, 1, 1, 3, 3, 3, 3, 0, 0, 0, 2, 2, 2, 1, 1, 1, 2, 0,\n",
       "       0, 0, 0, 0, 2, 2, 0, 2, 2, 2, 1, 1, 3, 3, 0, 2, 2, 1, 1, 1, 3, 3,\n",
       "       3, 1, 2, 2, 2, 2, 1, 1, 1, 2, 1, 1, 3, 3, 3, 3, 3, 2, 0, 0, 0, 2,\n",
       "       2, 2, 1, 1, 2, 0, 0, 0, 0, 0, 0, 0, 0, 0, 2, 2, 1, 1, 3, 3, 0, 0,\n",
       "       2, 1, 1, 1, 3, 3, 3, 1, 2, 2, 2, 2, 1, 1, 1, 2, 1, 1, 1, 3, 3, 3,\n",
       "       3, 0, 2, 2, 1, 1, 1, 3, 3, 3, 1, 2, 2, 2, 2, 1, 1, 1, 2, 1, 1, 3,\n",
       "       3, 3, 3, 3, 2, 0, 2, 1, 1, 1, 1, 3, 3, 1, 2, 2, 2, 2, 2, 1, 1, 2,\n",
       "       2, 1, 1, 3, 3, 3, 3, 0])"
      ]
     },
     "execution_count": 13,
     "metadata": {},
     "output_type": "execute_result"
    }
   ],
   "source": [
    "km = KMeans(n_clusters=4)\n",
    "y_predicted = km.fit_predict(df[['sd_freq','m_freq']])\n",
    "y_predicted\n"
   ]
  },
  {
   "cell_type": "code",
   "execution_count": 14,
   "metadata": {},
   "outputs": [
    {
     "data": {
      "text/html": [
       "<div>\n",
       "<style scoped>\n",
       "    .dataframe tbody tr th:only-of-type {\n",
       "        vertical-align: middle;\n",
       "    }\n",
       "\n",
       "    .dataframe tbody tr th {\n",
       "        vertical-align: top;\n",
       "    }\n",
       "\n",
       "    .dataframe thead th {\n",
       "        text-align: right;\n",
       "    }\n",
       "</style>\n",
       "<table border=\"1\" class=\"dataframe\">\n",
       "  <thead>\n",
       "    <tr style=\"text-align: right;\">\n",
       "      <th></th>\n",
       "      <th>chip</th>\n",
       "      <th>chipinstance</th>\n",
       "      <th>sd_freq</th>\n",
       "      <th>label</th>\n",
       "      <th>m_freq</th>\n",
       "      <th>cluster</th>\n",
       "    </tr>\n",
       "  </thead>\n",
       "  <tbody>\n",
       "    <tr>\n",
       "      <th>0</th>\n",
       "      <td>Chip1</td>\n",
       "      <td>C1I1</td>\n",
       "      <td>17.361956</td>\n",
       "      <td>0</td>\n",
       "      <td>220.55</td>\n",
       "      <td>0</td>\n",
       "    </tr>\n",
       "    <tr>\n",
       "      <th>1</th>\n",
       "      <td>Chip1</td>\n",
       "      <td>C1I2</td>\n",
       "      <td>16.164158</td>\n",
       "      <td>1</td>\n",
       "      <td>206.20</td>\n",
       "      <td>2</td>\n",
       "    </tr>\n",
       "    <tr>\n",
       "      <th>2</th>\n",
       "      <td>Chip1</td>\n",
       "      <td>C1I3</td>\n",
       "      <td>15.573616</td>\n",
       "      <td>1</td>\n",
       "      <td>199.25</td>\n",
       "      <td>2</td>\n",
       "    </tr>\n",
       "    <tr>\n",
       "      <th>3</th>\n",
       "      <td>Chip1</td>\n",
       "      <td>C1I4</td>\n",
       "      <td>15.307514</td>\n",
       "      <td>1</td>\n",
       "      <td>194.80</td>\n",
       "      <td>1</td>\n",
       "    </tr>\n",
       "    <tr>\n",
       "      <th>4</th>\n",
       "      <td>Chip1</td>\n",
       "      <td>C1I5</td>\n",
       "      <td>15.079042</td>\n",
       "      <td>1</td>\n",
       "      <td>190.85</td>\n",
       "      <td>1</td>\n",
       "    </tr>\n",
       "  </tbody>\n",
       "</table>\n",
       "</div>"
      ],
      "text/plain": [
       "    chip chipinstance    sd_freq  label  m_freq  cluster\n",
       "0  Chip1         C1I1  17.361956      0  220.55        0\n",
       "1  Chip1         C1I2  16.164158      1  206.20        2\n",
       "2  Chip1         C1I3  15.573616      1  199.25        2\n",
       "3  Chip1         C1I4  15.307514      1  194.80        1\n",
       "4  Chip1         C1I5  15.079042      1  190.85        1"
      ]
     },
     "execution_count": 14,
     "metadata": {},
     "output_type": "execute_result"
    }
   ],
   "source": [
    "df['cluster']=y_predicted\n",
    "df.head()"
   ]
  },
  {
   "cell_type": "code",
   "execution_count": 15,
   "metadata": {},
   "outputs": [
    {
     "data": {
      "text/plain": [
       "array([[ 17.63420042, 220.49210526],\n",
       "       [ 15.1225026 , 190.07851064],\n",
       "       [ 16.27518401, 203.40185874],\n",
       "       [ 13.84258906, 171.62546012]])"
      ]
     },
     "execution_count": 15,
     "metadata": {},
     "output_type": "execute_result"
    }
   ],
   "source": [
    "km.cluster_centers_"
   ]
  },
  {
   "cell_type": "code",
   "execution_count": 16,
   "metadata": {},
   "outputs": [
    {
     "data": {
      "text/plain": [
       "<matplotlib.legend.Legend at 0x200836f1eb0>"
      ]
     },
     "execution_count": 16,
     "metadata": {},
     "output_type": "execute_result"
    },
    {
     "data": {
      "image/png": "[encoded data removed]",
      "text/plain": [
       "<Figure size 432x288 with 1 Axes>"
      ]
     },
     "metadata": {
      "needs_background": "light"
     },
     "output_type": "display_data"
    }
   ],
   "source": [
    "df10 = df[df.cluster==0]\n",
    "df20 = df[df.cluster==1]\n",
    "df30 = df[df.cluster==2]\n",
    "df40 = df[df.cluster==3]\n",
    "# df50 = df[df.cluster==4]\n",
    "# df60 = df[df.cluster==5]\n",
    "plt.scatter(df10['sd_freq'],df10['m_freq'],color='green')\n",
    "plt.scatter(df20['sd_freq'],df20['m_freq'],color='red')\n",
    "plt.scatter(df30['sd_freq'],df30['m_freq'],color='black')\n",
    "plt.scatter(df40['sd_freq'],df40['m_freq'],color='pink')\n",
    "# plt.scatter(df50['sd_freq'],df50['m_freq'],color='cyan')\n",
    "# plt.scatter(df60['sd_freq'],df60['m_freq'],color='gray')\n",
    "plt.scatter(km.cluster_centers_[:,0],km.cluster_centers_[:,1],color='purple',marker='*',label='centroid')\n",
    "plt.legend()"
   ]
  },
  {
   "cell_type": "code",
   "execution_count": 17,
   "metadata": {},
   "outputs": [
    {
     "data": {
      "text/html": [
       "<div>\n",
       "<style scoped>\n",
       "    .dataframe tbody tr th:only-of-type {\n",
       "        vertical-align: middle;\n",
       "    }\n",
       "\n",
       "    .dataframe tbody tr th {\n",
       "        vertical-align: top;\n",
       "    }\n",
       "\n",
       "    .dataframe thead th {\n",
       "        text-align: right;\n",
       "    }\n",
       "</style>\n",
       "<table border=\"1\" class=\"dataframe\">\n",
       "  <thead>\n",
       "    <tr style=\"text-align: right;\">\n",
       "      <th></th>\n",
       "      <th>chip</th>\n",
       "      <th>chipinstance</th>\n",
       "      <th>sd_freq</th>\n",
       "      <th>label</th>\n",
       "      <th>m_freq</th>\n",
       "      <th>cluster</th>\n",
       "    </tr>\n",
       "  </thead>\n",
       "  <tbody>\n",
       "    <tr>\n",
       "      <th>0</th>\n",
       "      <td>Chip1</td>\n",
       "      <td>C1I1</td>\n",
       "      <td>17.361956</td>\n",
       "      <td>0</td>\n",
       "      <td>220.55</td>\n",
       "      <td>0</td>\n",
       "    </tr>\n",
       "    <tr>\n",
       "      <th>1</th>\n",
       "      <td>Chip1</td>\n",
       "      <td>C1I2</td>\n",
       "      <td>16.164158</td>\n",
       "      <td>1</td>\n",
       "      <td>206.20</td>\n",
       "      <td>2</td>\n",
       "    </tr>\n",
       "    <tr>\n",
       "      <th>2</th>\n",
       "      <td>Chip1</td>\n",
       "      <td>C1I3</td>\n",
       "      <td>15.573616</td>\n",
       "      <td>1</td>\n",
       "      <td>199.25</td>\n",
       "      <td>2</td>\n",
       "    </tr>\n",
       "    <tr>\n",
       "      <th>3</th>\n",
       "      <td>Chip1</td>\n",
       "      <td>C1I4</td>\n",
       "      <td>15.307514</td>\n",
       "      <td>1</td>\n",
       "      <td>194.80</td>\n",
       "      <td>1</td>\n",
       "    </tr>\n",
       "    <tr>\n",
       "      <th>4</th>\n",
       "      <td>Chip1</td>\n",
       "      <td>C1I5</td>\n",
       "      <td>15.079042</td>\n",
       "      <td>1</td>\n",
       "      <td>190.85</td>\n",
       "      <td>1</td>\n",
       "    </tr>\n",
       "    <tr>\n",
       "      <th>...</th>\n",
       "      <td>...</td>\n",
       "      <td>...</td>\n",
       "      <td>...</td>\n",
       "      <td>...</td>\n",
       "      <td>...</td>\n",
       "      <td>...</td>\n",
       "    </tr>\n",
       "    <tr>\n",
       "      <th>795</th>\n",
       "      <td>Chip32</td>\n",
       "      <td>C32I21</td>\n",
       "      <td>13.473585</td>\n",
       "      <td>1</td>\n",
       "      <td>176.75</td>\n",
       "      <td>3</td>\n",
       "    </tr>\n",
       "    <tr>\n",
       "      <th>796</th>\n",
       "      <td>Chip32</td>\n",
       "      <td>C32I22</td>\n",
       "      <td>13.118594</td>\n",
       "      <td>1</td>\n",
       "      <td>170.35</td>\n",
       "      <td>3</td>\n",
       "    </tr>\n",
       "    <tr>\n",
       "      <th>797</th>\n",
       "      <td>Chip32</td>\n",
       "      <td>C32I23</td>\n",
       "      <td>12.648715</td>\n",
       "      <td>1</td>\n",
       "      <td>163.90</td>\n",
       "      <td>3</td>\n",
       "    </tr>\n",
       "    <tr>\n",
       "      <th>798</th>\n",
       "      <td>Chip32</td>\n",
       "      <td>C32I24</td>\n",
       "      <td>12.617349</td>\n",
       "      <td>1</td>\n",
       "      <td>163.35</td>\n",
       "      <td>3</td>\n",
       "    </tr>\n",
       "    <tr>\n",
       "      <th>799</th>\n",
       "      <td>Chip32</td>\n",
       "      <td>C32I25</td>\n",
       "      <td>16.564722</td>\n",
       "      <td>0</td>\n",
       "      <td>215.10</td>\n",
       "      <td>0</td>\n",
       "    </tr>\n",
       "  </tbody>\n",
       "</table>\n",
       "<p>800 rows × 6 columns</p>\n",
       "</div>"
      ],
      "text/plain": [
       "       chip chipinstance    sd_freq  label  m_freq  cluster\n",
       "0     Chip1         C1I1  17.361956      0  220.55        0\n",
       "1     Chip1         C1I2  16.164158      1  206.20        2\n",
       "2     Chip1         C1I3  15.573616      1  199.25        2\n",
       "3     Chip1         C1I4  15.307514      1  194.80        1\n",
       "4     Chip1         C1I5  15.079042      1  190.85        1\n",
       "..      ...          ...        ...    ...     ...      ...\n",
       "795  Chip32       C32I21  13.473585      1  176.75        3\n",
       "796  Chip32       C32I22  13.118594      1  170.35        3\n",
       "797  Chip32       C32I23  12.648715      1  163.90        3\n",
       "798  Chip32       C32I24  12.617349      1  163.35        3\n",
       "799  Chip32       C32I25  16.564722      0  215.10        0\n",
       "\n",
       "[800 rows x 6 columns]"
      ]
     },
     "execution_count": 17,
     "metadata": {},
     "output_type": "execute_result"
    }
   ],
   "source": [
    "df"
   ]
  },
  {
   "cell_type": "code",
   "execution_count": 18,
   "metadata": {},
   "outputs": [],
   "source": [
    "import os  \n",
    "os.makedirs('csv_cluster_sd', exist_ok=True)  \n",
    "df.to_csv('csv_cluster_sd/out.csv')  "
   ]
  },
  {
   "cell_type": "code",
   "execution_count": 19,
   "metadata": {},
   "outputs": [],
   "source": [
    "df0 = pd.DataFrame(df.loc[df['label'] == 0])"
   ]
  },
  {
   "cell_type": "code",
   "execution_count": 20,
   "metadata": {},
   "outputs": [],
   "source": [
    "import os  \n",
    "os.makedirs('csv_cluster_sd', exist_ok=True)  \n",
    "df0.to_csv('csv_cluster_sd/golden.csv')  "
   ]
  },
  {
   "cell_type": "code",
   "execution_count": 21,
   "metadata": {},
   "outputs": [],
   "source": [
    "df1 = pd.DataFrame(df.loc[df['label'] == 1])"
   ]
  },
  {
   "cell_type": "code",
   "execution_count": 22,
   "metadata": {},
   "outputs": [],
   "source": [
    "os.makedirs('csv_cluster_sd', exist_ok=True)  \n",
    "df1.to_csv('csv_cluster_sd/trojan.csv')  "
   ]
  },
  {
   "cell_type": "code",
   "execution_count": 23,
   "metadata": {},
   "outputs": [
    {
     "data": {
      "text/html": [
       "<div>\n",
       "<style scoped>\n",
       "    .dataframe tbody tr th:only-of-type {\n",
       "        vertical-align: middle;\n",
       "    }\n",
       "\n",
       "    .dataframe tbody tr th {\n",
       "        vertical-align: top;\n",
       "    }\n",
       "\n",
       "    .dataframe thead th {\n",
       "        text-align: right;\n",
       "    }\n",
       "</style>\n",
       "<table border=\"1\" class=\"dataframe\">\n",
       "  <thead>\n",
       "    <tr style=\"text-align: right;\">\n",
       "      <th></th>\n",
       "      <th>chip</th>\n",
       "      <th>chipinstance</th>\n",
       "      <th>sd_freq</th>\n",
       "      <th>label</th>\n",
       "      <th>m_freq</th>\n",
       "      <th>cluster</th>\n",
       "      <th>predicted</th>\n",
       "    </tr>\n",
       "  </thead>\n",
       "  <tbody>\n",
       "    <tr>\n",
       "      <th>0</th>\n",
       "      <td>Chip1</td>\n",
       "      <td>C1I1</td>\n",
       "      <td>17.361956</td>\n",
       "      <td>0</td>\n",
       "      <td>220.55</td>\n",
       "      <td>0</td>\n",
       "      <td>0</td>\n",
       "    </tr>\n",
       "    <tr>\n",
       "      <th>1</th>\n",
       "      <td>Chip1</td>\n",
       "      <td>C1I2</td>\n",
       "      <td>16.164158</td>\n",
       "      <td>1</td>\n",
       "      <td>206.20</td>\n",
       "      <td>2</td>\n",
       "      <td>2</td>\n",
       "    </tr>\n",
       "    <tr>\n",
       "      <th>2</th>\n",
       "      <td>Chip1</td>\n",
       "      <td>C1I3</td>\n",
       "      <td>15.573616</td>\n",
       "      <td>1</td>\n",
       "      <td>199.25</td>\n",
       "      <td>2</td>\n",
       "      <td>2</td>\n",
       "    </tr>\n",
       "    <tr>\n",
       "      <th>3</th>\n",
       "      <td>Chip1</td>\n",
       "      <td>C1I4</td>\n",
       "      <td>15.307514</td>\n",
       "      <td>1</td>\n",
       "      <td>194.80</td>\n",
       "      <td>1</td>\n",
       "      <td>1</td>\n",
       "    </tr>\n",
       "    <tr>\n",
       "      <th>4</th>\n",
       "      <td>Chip1</td>\n",
       "      <td>C1I5</td>\n",
       "      <td>15.079042</td>\n",
       "      <td>1</td>\n",
       "      <td>190.85</td>\n",
       "      <td>1</td>\n",
       "      <td>1</td>\n",
       "    </tr>\n",
       "    <tr>\n",
       "      <th>...</th>\n",
       "      <td>...</td>\n",
       "      <td>...</td>\n",
       "      <td>...</td>\n",
       "      <td>...</td>\n",
       "      <td>...</td>\n",
       "      <td>...</td>\n",
       "      <td>...</td>\n",
       "    </tr>\n",
       "    <tr>\n",
       "      <th>795</th>\n",
       "      <td>Chip32</td>\n",
       "      <td>C32I21</td>\n",
       "      <td>13.473585</td>\n",
       "      <td>1</td>\n",
       "      <td>176.75</td>\n",
       "      <td>3</td>\n",
       "      <td>3</td>\n",
       "    </tr>\n",
       "    <tr>\n",
       "      <th>796</th>\n",
       "      <td>Chip32</td>\n",
       "      <td>C32I22</td>\n",
       "      <td>13.118594</td>\n",
       "      <td>1</td>\n",
       "      <td>170.35</td>\n",
       "      <td>3</td>\n",
       "      <td>3</td>\n",
       "    </tr>\n",
       "    <tr>\n",
       "      <th>797</th>\n",
       "      <td>Chip32</td>\n",
       "      <td>C32I23</td>\n",
       "      <td>12.648715</td>\n",
       "      <td>1</td>\n",
       "      <td>163.90</td>\n",
       "      <td>3</td>\n",
       "      <td>3</td>\n",
       "    </tr>\n",
       "    <tr>\n",
       "      <th>798</th>\n",
       "      <td>Chip32</td>\n",
       "      <td>C32I24</td>\n",
       "      <td>12.617349</td>\n",
       "      <td>1</td>\n",
       "      <td>163.35</td>\n",
       "      <td>3</td>\n",
       "      <td>3</td>\n",
       "    </tr>\n",
       "    <tr>\n",
       "      <th>799</th>\n",
       "      <td>Chip32</td>\n",
       "      <td>C32I25</td>\n",
       "      <td>16.564722</td>\n",
       "      <td>0</td>\n",
       "      <td>215.10</td>\n",
       "      <td>0</td>\n",
       "      <td>0</td>\n",
       "    </tr>\n",
       "  </tbody>\n",
       "</table>\n",
       "<p>800 rows × 7 columns</p>\n",
       "</div>"
      ],
      "text/plain": [
       "       chip chipinstance    sd_freq  label  m_freq  cluster  predicted\n",
       "0     Chip1         C1I1  17.361956      0  220.55        0          0\n",
       "1     Chip1         C1I2  16.164158      1  206.20        2          2\n",
       "2     Chip1         C1I3  15.573616      1  199.25        2          2\n",
       "3     Chip1         C1I4  15.307514      1  194.80        1          1\n",
       "4     Chip1         C1I5  15.079042      1  190.85        1          1\n",
       "..      ...          ...        ...    ...     ...      ...        ...\n",
       "795  Chip32       C32I21  13.473585      1  176.75        3          3\n",
       "796  Chip32       C32I22  13.118594      1  170.35        3          3\n",
       "797  Chip32       C32I23  12.648715      1  163.90        3          3\n",
       "798  Chip32       C32I24  12.617349      1  163.35        3          3\n",
       "799  Chip32       C32I25  16.564722      0  215.10        0          0\n",
       "\n",
       "[800 rows x 7 columns]"
      ]
     },
     "execution_count": 23,
     "metadata": {},
     "output_type": "execute_result"
    }
   ],
   "source": [
    "df['predicted'] = df['cluster']\n",
    "df"
   ]
  },
  {
   "cell_type": "code",
   "execution_count": 24,
   "metadata": {},
   "outputs": [],
   "source": [
    "df['predicted'] = df['predicted'].replace([2,3], 1)\n",
    "# replace 2 and 3 by 1"
   ]
  },
  {
   "cell_type": "code",
   "execution_count": 25,
   "metadata": {},
   "outputs": [
    {
     "data": {
      "text/html": [
       "<div>\n",
       "<style scoped>\n",
       "    .dataframe tbody tr th:only-of-type {\n",
       "        vertical-align: middle;\n",
       "    }\n",
       "\n",
       "    .dataframe tbody tr th {\n",
       "        vertical-align: top;\n",
       "    }\n",
       "\n",
       "    .dataframe thead th {\n",
       "        text-align: right;\n",
       "    }\n",
       "</style>\n",
       "<table border=\"1\" class=\"dataframe\">\n",
       "  <thead>\n",
       "    <tr style=\"text-align: right;\">\n",
       "      <th></th>\n",
       "      <th>chip</th>\n",
       "      <th>chipinstance</th>\n",
       "      <th>sd_freq</th>\n",
       "      <th>label</th>\n",
       "      <th>m_freq</th>\n",
       "      <th>cluster</th>\n",
       "      <th>predicted</th>\n",
       "    </tr>\n",
       "  </thead>\n",
       "  <tbody>\n",
       "    <tr>\n",
       "      <th>0</th>\n",
       "      <td>Chip1</td>\n",
       "      <td>C1I1</td>\n",
       "      <td>17.361956</td>\n",
       "      <td>0</td>\n",
       "      <td>220.55</td>\n",
       "      <td>0</td>\n",
       "      <td>0</td>\n",
       "    </tr>\n",
       "    <tr>\n",
       "      <th>1</th>\n",
       "      <td>Chip1</td>\n",
       "      <td>C1I2</td>\n",
       "      <td>16.164158</td>\n",
       "      <td>1</td>\n",
       "      <td>206.20</td>\n",
       "      <td>2</td>\n",
       "      <td>1</td>\n",
       "    </tr>\n",
       "    <tr>\n",
       "      <th>2</th>\n",
       "      <td>Chip1</td>\n",
       "      <td>C1I3</td>\n",
       "      <td>15.573616</td>\n",
       "      <td>1</td>\n",
       "      <td>199.25</td>\n",
       "      <td>2</td>\n",
       "      <td>1</td>\n",
       "    </tr>\n",
       "    <tr>\n",
       "      <th>3</th>\n",
       "      <td>Chip1</td>\n",
       "      <td>C1I4</td>\n",
       "      <td>15.307514</td>\n",
       "      <td>1</td>\n",
       "      <td>194.80</td>\n",
       "      <td>1</td>\n",
       "      <td>1</td>\n",
       "    </tr>\n",
       "    <tr>\n",
       "      <th>4</th>\n",
       "      <td>Chip1</td>\n",
       "      <td>C1I5</td>\n",
       "      <td>15.079042</td>\n",
       "      <td>1</td>\n",
       "      <td>190.85</td>\n",
       "      <td>1</td>\n",
       "      <td>1</td>\n",
       "    </tr>\n",
       "    <tr>\n",
       "      <th>...</th>\n",
       "      <td>...</td>\n",
       "      <td>...</td>\n",
       "      <td>...</td>\n",
       "      <td>...</td>\n",
       "      <td>...</td>\n",
       "      <td>...</td>\n",
       "      <td>...</td>\n",
       "    </tr>\n",
       "    <tr>\n",
       "      <th>795</th>\n",
       "      <td>Chip32</td>\n",
       "      <td>C32I21</td>\n",
       "      <td>13.473585</td>\n",
       "      <td>1</td>\n",
       "      <td>176.75</td>\n",
       "      <td>3</td>\n",
       "      <td>1</td>\n",
       "    </tr>\n",
       "    <tr>\n",
       "      <th>796</th>\n",
       "      <td>Chip32</td>\n",
       "      <td>C32I22</td>\n",
       "      <td>13.118594</td>\n",
       "      <td>1</td>\n",
       "      <td>170.35</td>\n",
       "      <td>3</td>\n",
       "      <td>1</td>\n",
       "    </tr>\n",
       "    <tr>\n",
       "      <th>797</th>\n",
       "      <td>Chip32</td>\n",
       "      <td>C32I23</td>\n",
       "      <td>12.648715</td>\n",
       "      <td>1</td>\n",
       "      <td>163.90</td>\n",
       "      <td>3</td>\n",
       "      <td>1</td>\n",
       "    </tr>\n",
       "    <tr>\n",
       "      <th>798</th>\n",
       "      <td>Chip32</td>\n",
       "      <td>C32I24</td>\n",
       "      <td>12.617349</td>\n",
       "      <td>1</td>\n",
       "      <td>163.35</td>\n",
       "      <td>3</td>\n",
       "      <td>1</td>\n",
       "    </tr>\n",
       "    <tr>\n",
       "      <th>799</th>\n",
       "      <td>Chip32</td>\n",
       "      <td>C32I25</td>\n",
       "      <td>16.564722</td>\n",
       "      <td>0</td>\n",
       "      <td>215.10</td>\n",
       "      <td>0</td>\n",
       "      <td>0</td>\n",
       "    </tr>\n",
       "  </tbody>\n",
       "</table>\n",
       "<p>800 rows × 7 columns</p>\n",
       "</div>"
      ],
      "text/plain": [
       "       chip chipinstance    sd_freq  label  m_freq  cluster  predicted\n",
       "0     Chip1         C1I1  17.361956      0  220.55        0          0\n",
       "1     Chip1         C1I2  16.164158      1  206.20        2          1\n",
       "2     Chip1         C1I3  15.573616      1  199.25        2          1\n",
       "3     Chip1         C1I4  15.307514      1  194.80        1          1\n",
       "4     Chip1         C1I5  15.079042      1  190.85        1          1\n",
       "..      ...          ...        ...    ...     ...      ...        ...\n",
       "795  Chip32       C32I21  13.473585      1  176.75        3          1\n",
       "796  Chip32       C32I22  13.118594      1  170.35        3          1\n",
       "797  Chip32       C32I23  12.648715      1  163.90        3          1\n",
       "798  Chip32       C32I24  12.617349      1  163.35        3          1\n",
       "799  Chip32       C32I25  16.564722      0  215.10        0          0\n",
       "\n",
       "[800 rows x 7 columns]"
      ]
     },
     "execution_count": 25,
     "metadata": {},
     "output_type": "execute_result"
    }
   ],
   "source": [
    "df"
   ]
  },
  {
   "cell_type": "code",
   "execution_count": 26,
   "metadata": {},
   "outputs": [],
   "source": [
    "y_test = df.label\n",
    "y_pred_class = df.predicted"
   ]
  },
  {
   "cell_type": "code",
   "execution_count": 27,
   "metadata": {},
   "outputs": [
    {
     "name": "stdout",
     "output_type": "stream",
     "text": [
      "1    736\n",
      "0     64\n",
      "Name: label, dtype: int64\n"
     ]
    }
   ],
   "source": [
    "dfz = df['label'].value_counts()\n",
    "print(dfz)"
   ]
  },
  {
   "cell_type": "code",
   "execution_count": 28,
   "metadata": {},
   "outputs": [
    {
     "data": {
      "text/plain": [
       "<sklearn.metrics._plot.confusion_matrix.ConfusionMatrixDisplay at 0x20082c54820>"
      ]
     },
     "execution_count": 28,
     "metadata": {},
     "output_type": "execute_result"
    },
    {
     "data": {
      "image/png": "[encoded data removed]",
      "text/plain": [
       "<Figure size 432x288 with 2 Axes>"
      ]
     },
     "metadata": {
      "needs_background": "light"
     },
     "output_type": "display_data"
    }
   ],
   "source": [
    "from sklearn.metrics import confusion_matrix, ConfusionMatrixDisplay\n",
    "cm = confusion_matrix(y_test, y_pred_class)\n",
    "cmd = ConfusionMatrixDisplay(cm, display_labels=['Trojan Free: 0','Trojan Infected: 1'])\n",
    "cmd.plot()\n"
   ]
  },
  {
   "cell_type": "code",
   "execution_count": 29,
   "metadata": {},
   "outputs": [
    {
     "name": "stdout",
     "output_type": "stream",
     "text": [
      "60\n",
      "[[ 60   4]\n",
      " [ 74 662]]\n",
      "[0.8994565217391305, 0.9375, 0.10054347826086957, 0.5522388059701493]\n"
     ]
    }
   ],
   "source": [
    "TN = cm[0][0]\n",
    "FN = cm[1][0]\n",
    "TP = cm[1][1]\n",
    "FP = cm[0][1]\n",
    "TPR = TP/(TP + FN)\n",
    "TNR = TN/(TN + FP)\n",
    "FNR = FN/(FN + TP)\n",
    "FPR = FN/(FN + TN)\n",
    "\n",
    "print(TN)\n",
    "print(cm)\n",
    "result = [TPR, TNR, FNR, FPR]\n",
    "print(result)"
   ]
  },
  {
   "cell_type": "code",
   "execution_count": 30,
   "metadata": {},
   "outputs": [],
   "source": [
    "acc = (TP + TN)/(TP + TN + FP + FN)"
   ]
  },
  {
   "cell_type": "code",
   "execution_count": 31,
   "metadata": {},
   "outputs": [
    {
     "name": "stdout",
     "output_type": "stream",
     "text": [
      "0.9025\n"
     ]
    }
   ],
   "source": [
    "print(acc)"
   ]
  },
  {
   "cell_type": "code",
   "execution_count": 32,
   "metadata": {},
   "outputs": [
    {
     "name": "stdout",
     "output_type": "stream",
     "text": [
      "0.993993993993994\n"
     ]
    }
   ],
   "source": [
    "precision = TP/(TP + FP)\n",
    "print(precision)"
   ]
  },
  {
   "cell_type": "code",
   "execution_count": null,
   "metadata": {},
   "outputs": [],
   "source": []
  }
 ],
 "metadata": {
  "kernelspec": {
   "display_name": "Python 3 (ipykernel)",
   "language": "python",
   "name": "python3"
  },
  "language_info": {
   "codemirror_mode": {
    "name": "ipython",
    "version": 3
   },
   "file_extension": ".py",
   "mimetype": "text/x-python",
   "name": "python",
   "nbconvert_exporter": "python",
   "pygments_lexer": "ipython3",
   "version": "3.9.7"
  }
 },
 "nbformat": 4,
 "nbformat_minor": 2
}
